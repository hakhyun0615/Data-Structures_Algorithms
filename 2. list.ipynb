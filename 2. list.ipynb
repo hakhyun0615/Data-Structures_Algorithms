{
 "cells": [
  {
   "cell_type": "markdown",
   "metadata": {},
   "source": [
    "단순 연결 리스트\n",
    "- 노드(데이터, 링크): 리스트의 각 항목\n",
    "- 헤드: 첫번째 노드를 가리키는 변수"
   ]
  },
  {
   "cell_type": "code",
   "execution_count": 9,
   "metadata": {},
   "outputs": [],
   "source": [
    "class Node:\n",
    "    def __init__(self, item):\n",
    "        self.item = item\n",
    "        self.next = None\n",
    "    \n",
    "    def get_item(self):\n",
    "        return self.item\n",
    "    \n",
    "    def get_next(self):\n",
    "        return self.next\n",
    "    \n",
    "    def set_item(self, new_item):\n",
    "        self.item = new_item\n",
    "    \n",
    "    def set_next(self, new_next):\n",
    "        self.next = new_next"
   ]
  },
  {
   "cell_type": "code",
   "execution_count": 14,
   "metadata": {},
   "outputs": [
    {
     "name": "stdout",
     "output_type": "stream",
     "text": [
      "15 -> 45 -> 30 -> 95\n"
     ]
    }
   ],
   "source": [
    "class SList:\n",
    "    def __init__(self):\n",
    "        self.head = None\n",
    "    \n",
    "    def is_empty(self):\n",
    "        return self.head == None\n",
    "    \n",
    "    # add very front\n",
    "    def add(self, item):\n",
    "        temp = Node(item)\n",
    "        temp.set_next(self.head)\n",
    "        self.head = temp\n",
    "\n",
    "    # iterate to find size\n",
    "    def size(self):\n",
    "        current = self.head\n",
    "        count = 0\n",
    "        while current.next != None:\n",
    "            count += 1\n",
    "            current = current.get_next()\n",
    "\n",
    "s = SList()\n",
    "s.add(95)\n",
    "s.add(30)\n",
    "s.add(45)\n",
    "s.add(15)\n",
    "current = s.head\n",
    "while current != None:\n",
    "    if current.get_next() != None:\n",
    "        print(current.get_item(), '->', end=' ')\n",
    "    else:\n",
    "        print(current.get_item())\n",
    "    current = current.get_next()"
   ]
  },
  {
   "cell_type": "code",
   "execution_count": null,
   "metadata": {},
   "outputs": [],
   "source": []
  }
 ],
 "metadata": {
  "kernelspec": {
   "display_name": "Python 3",
   "language": "python",
   "name": "python3"
  },
  "language_info": {
   "codemirror_mode": {
    "name": "ipython",
    "version": 3
   },
   "file_extension": ".py",
   "mimetype": "text/x-python",
   "name": "python",
   "nbconvert_exporter": "python",
   "pygments_lexer": "ipython3",
   "version": "3.11.4"
  }
 },
 "nbformat": 4,
 "nbformat_minor": 2
}
